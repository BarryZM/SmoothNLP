{
 "cells": [
  {
   "cell_type": "code",
   "execution_count": 1,
   "metadata": {
    "ExecuteTime": {
     "end_time": "2019-04-02T15:40:50.669376Z",
     "start_time": "2019-04-02T15:40:50.538411Z"
    }
   },
   "outputs": [],
   "source": [
    "import smoothnlp\n",
    "smoothnlp.initJVMConnection(\"/storm/smoothnlp/smoothnlp_maven/target/smoothnlp-0.1-jar-with-dependencies.jar\")"
   ]
  },
  {
   "cell_type": "markdown",
   "metadata": {},
   "source": [
    "### Simple Module"
   ]
  },
  {
   "cell_type": "markdown",
   "metadata": {},
   "source": [
    "#### 命名实体识别"
   ]
  },
  {
   "cell_type": "code",
   "execution_count": 2,
   "metadata": {
    "ExecuteTime": {
     "end_time": "2019-04-02T15:41:01.660503Z",
     "start_time": "2019-04-02T15:40:51.185774Z"
    }
   },
   "outputs": [],
   "source": [
    "import json\n",
    "ner = smoothnlp.simple.ner()"
   ]
  },
  {
   "cell_type": "code",
   "execution_count": 3,
   "metadata": {
    "ExecuteTime": {
     "end_time": "2019-04-02T15:41:02.024226Z",
     "start_time": "2019-04-02T15:41:01.661949Z"
    }
   },
   "outputs": [
    {
     "data": {
      "text/plain": [
       "[{'charStart': '1',\n",
       "  'entityType': 'DATE',\n",
       "  'charEnd': '10',\n",
       "  'tokens': '[2019年-2, 3月-3, 八号-4]',\n",
       "  'normalizedEntityTag': '2019-03-08',\n",
       "  'text': '2019年3月八号'},\n",
       " {'charStart': '17',\n",
       "  'entityType': 'MONEY',\n",
       "  'charEnd': '20',\n",
       "  'tokens': '[五十-11, 元-12]',\n",
       "  'normalizedEntityTag': '元50',\n",
       "  'text': '五十元'},\n",
       " {'charStart': '21',\n",
       "  'entityType': 'NUMBER',\n",
       "  'charEnd': '22',\n",
       "  'tokens': '[十-14]',\n",
       "  'normalizedEntityTag': '10',\n",
       "  'text': '十'},\n",
       " {'charStart': '28',\n",
       "  'entityType': 'MONEY',\n",
       "  'charEnd': '31',\n",
       "  'tokens': '[50-19, 元-20]',\n",
       "  'normalizedEntityTag': '元50',\n",
       "  'text': '50元'}]"
      ]
     },
     "execution_count": 3,
     "metadata": {},
     "output_type": "execute_result"
    }
   ],
   "source": [
    "json.loads(ner.analyze(\"在2019年3月八号,我买了个价值五十元的十个苹果,价值50元\"))"
   ]
  },
  {
   "cell_type": "markdown",
   "metadata": {},
   "source": [
    "####  情感"
   ]
  },
  {
   "cell_type": "code",
   "execution_count": 4,
   "metadata": {
    "ExecuteTime": {
     "end_time": "2019-04-02T15:41:06.653939Z",
     "start_time": "2019-04-02T15:41:02.025401Z"
    }
   },
   "outputs": [
    {
     "data": {
      "text/plain": [
       "'[{\"sentiment.Label\":\"Positive\"}]'"
      ]
     },
     "execution_count": 4,
     "metadata": {},
     "output_type": "execute_result"
    }
   ],
   "source": [
    "sentiment= smoothnlp.simple.sentiment()\n",
    "sentiment.analyze(\"今天天气不错\")"
   ]
  },
  {
   "cell_type": "markdown",
   "metadata": {},
   "source": [
    "### Learner Module"
   ]
  },
  {
   "cell_type": "markdown",
   "metadata": {},
   "source": [
    "#### Document Learner"
   ]
  },
  {
   "cell_type": "code",
   "execution_count": 5,
   "metadata": {
    "ExecuteTime": {
     "end_time": "2019-04-02T15:41:06.658526Z",
     "start_time": "2019-04-02T15:41:06.656052Z"
    }
   },
   "outputs": [],
   "source": [
    "sample_text = \"今天天气不错,天气这么好, 真应该出去玩耍呀\"\n",
    "sample_text2 = \"今天天气不错, 但是如果不出去玩, 在家里写代码也会很开心\""
   ]
  },
  {
   "cell_type": "code",
   "execution_count": 6,
   "metadata": {
    "ExecuteTime": {
     "end_time": "2019-04-02T15:41:06.869594Z",
     "start_time": "2019-04-02T15:41:06.660366Z"
    },
    "scrolled": true
   },
   "outputs": [
    {
     "data": {
      "text/plain": [
       "[{'charStart': '0',\n",
       "  're': '0.0',\n",
       "  'phrase_score': '0.9810855061190058',\n",
       "  'le': '0.0',\n",
       "  'charEnd': '2',\n",
       "  'tokenIndex': '0',\n",
       "  'textRankScore': '0.57032394',\n",
       "  'pmi': '11.326906499272114',\n",
       "  'token': '今天'},\n",
       " {'charStart': '2',\n",
       "  're': '0.6365141682948128',\n",
       "  'phrase_score': '30.39080850692747',\n",
       "  'le': '0.6365141682948128',\n",
       "  'charEnd': '4',\n",
       "  'tokenIndex': '1',\n",
       "  'textRankScore': '0.9089106',\n",
       "  'pmi': '11.961213179809127',\n",
       "  'token': '天气'},\n",
       " {'charStart': '4',\n",
       "  're': '0.0',\n",
       "  'phrase_score': '0.9119583259797813',\n",
       "  'le': '0.0',\n",
       "  'charEnd': '6',\n",
       "  'tokenIndex': '2',\n",
       "  'textRankScore': '1.0187261',\n",
       "  'pmi': '10.528813875222731',\n",
       "  'token': '不错'},\n",
       " {'charStart': '6',\n",
       "  'charEnd': '7',\n",
       "  'tokenIndex': '3',\n",
       "  'textRankScore': '1.9009947',\n",
       "  'token': ','},\n",
       " {'charStart': '7',\n",
       "  're': '0.6365141682948128',\n",
       "  'phrase_score': '30.39080850692747',\n",
       "  'le': '0.6365141682948128',\n",
       "  'charEnd': '9',\n",
       "  'tokenIndex': '4',\n",
       "  'textRankScore': '0.9089106',\n",
       "  'pmi': '11.961213179809127',\n",
       "  'token': '天气'},\n",
       " {'charStart': '9',\n",
       "  're': '0.0',\n",
       "  'phrase_score': '1.0066777022890754',\n",
       "  'le': '0.0',\n",
       "  'charEnd': '11',\n",
       "  'tokenIndex': '5',\n",
       "  'textRankScore': '0.7902347',\n",
       "  'pmi': '11.622375560145434',\n",
       "  'token': '这么'},\n",
       " {'charStart': '11',\n",
       "  'charEnd': '12',\n",
       "  'tokenIndex': '6',\n",
       "  'textRankScore': '0.9044267',\n",
       "  'token': '好'},\n",
       " {'charStart': '12',\n",
       "  'charEnd': '13',\n",
       "  'tokenIndex': '7',\n",
       "  'textRankScore': '1.9009947',\n",
       "  'token': ','},\n",
       " {'charStart': '13',\n",
       "  'charEnd': '14',\n",
       "  'tokenIndex': '8',\n",
       "  'textRankScore': '2.1368623',\n",
       "  'token': ' '},\n",
       " {'charStart': '14',\n",
       "  'charEnd': '15',\n",
       "  'tokenIndex': '9',\n",
       "  'textRankScore': '1.0371267',\n",
       "  'token': '真'},\n",
       " {'charStart': '15',\n",
       "  're': '0.0',\n",
       "  'phrase_score': '0.7380137204913568',\n",
       "  'le': '0.0',\n",
       "  'charEnd': '17',\n",
       "  'tokenIndex': '10',\n",
       "  'textRankScore': '0.92331296',\n",
       "  'pmi': '8.520574766468465',\n",
       "  'token': '应该'},\n",
       " {'charStart': '17',\n",
       "  're': '0.0',\n",
       "  'phrase_score': '19.979471490424604',\n",
       "  'le': '0.6931471805599453',\n",
       "  'charEnd': '19',\n",
       "  'tokenIndex': '11',\n",
       "  'textRankScore': '1.3591951',\n",
       "  'pmi': '7.983773656299213',\n",
       "  'token': '出去'},\n",
       " {'charStart': '19',\n",
       "  're': '0.0',\n",
       "  'phrase_score': '1.4304203247346632',\n",
       "  'le': '0.0',\n",
       "  'charEnd': '21',\n",
       "  'tokenIndex': '12',\n",
       "  'textRankScore': '0.7048798',\n",
       "  'pmi': '16.51460262319139',\n",
       "  'token': '玩耍'},\n",
       " {'charStart': '21',\n",
       "  'charEnd': '22',\n",
       "  'tokenIndex': '13',\n",
       "  'textRankScore': '0.5969764',\n",
       "  'token': '呀'}]"
      ]
     },
     "execution_count": 6,
     "metadata": {},
     "output_type": "execute_result"
    }
   ],
   "source": [
    "DocumentLearner = smoothnlp.learner.DocumentLearner()\n",
    "DocumentLearner.fit([sample_text,sample_text2])\n",
    "document_learned_result = json.loads(DocumentLearner.transform(sample_text))\n",
    "document_learned_result"
   ]
  },
  {
   "cell_type": "markdown",
   "metadata": {},
   "source": [
    "#### PMI & Left/Right Entripy Learner"
   ]
  },
  {
   "cell_type": "code",
   "execution_count": 7,
   "metadata": {
    "ExecuteTime": {
     "end_time": "2019-04-02T15:41:06.876499Z",
     "start_time": "2019-04-02T15:41:06.870862Z"
    },
    "scrolled": true
   },
   "outputs": [],
   "source": [
    "PMIElearner = smoothnlp.learner.PMIEntropyLearner()\n",
    "PMIElearner.fit(sample_text)\n",
    "_ = json.loads(PMIElearner.transform(sample_text))"
   ]
  },
  {
   "cell_type": "markdown",
   "metadata": {},
   "source": [
    "#### TextRankScore Leaner"
   ]
  },
  {
   "cell_type": "code",
   "execution_count": 8,
   "metadata": {
    "ExecuteTime": {
     "end_time": "2019-04-02T15:41:06.886579Z",
     "start_time": "2019-04-02T15:41:06.877812Z"
    }
   },
   "outputs": [],
   "source": [
    "TextRankLearner = smoothnlp.learner.TextRankLeaner()\n",
    "TextRankLearner.fit(sample_text)\n",
    "_ = json.loads(TextRankLearner.transform(sample_text))"
   ]
  },
  {
   "cell_type": "markdown",
   "metadata": {},
   "source": [
    "### Generate Features Using Squeeze"
   ]
  },
  {
   "cell_type": "code",
   "execution_count": 9,
   "metadata": {
    "ExecuteTime": {
     "end_time": "2019-04-02T15:41:07.166009Z",
     "start_time": "2019-04-02T15:41:06.888145Z"
    }
   },
   "outputs": [],
   "source": [
    "import squeeze\n",
    "import squeeze.adaptor\n",
    "import warnings\n",
    "warnings.filterwarnings(\"ignore\")"
   ]
  },
  {
   "cell_type": "code",
   "execution_count": 10,
   "metadata": {
    "ExecuteTime": {
     "end_time": "2019-04-02T15:41:07.179540Z",
     "start_time": "2019-04-02T15:41:07.167491Z"
    }
   },
   "outputs": [
    {
     "name": "stderr",
     "output_type": "stream",
     "text": [
      "re is not in every element of the input x.\n",
      "le is not in every element of the input x.\n",
      "pmi is not in every element of the input x.\n",
      "phrase_score is not in every element of the input x.\n",
      "re is not in every element of the input x.\n",
      "le is not in every element of the input x.\n",
      "pmi is not in every element of the input x.\n",
      "phrase_score is not in every element of the input x.\n",
      "re is not in every element of the input x.\n",
      "le is not in every element of the input x.\n",
      "pmi is not in every element of the input x.\n",
      "phrase_score is not in every element of the input x.\n",
      "re is not in every element of the input x.\n",
      "le is not in every element of the input x.\n",
      "pmi is not in every element of the input x.\n",
      "phrase_score is not in every element of the input x.\n",
      "re is not in every element of the input x.\n",
      "le is not in every element of the input x.\n",
      "pmi is not in every element of the input x.\n",
      "phrase_score is not in every element of the input x.\n",
      "re is not in every element of the input x.\n",
      "le is not in every element of the input x.\n",
      "pmi is not in every element of the input x.\n",
      "phrase_score is not in every element of the input x.\n"
     ]
    }
   ],
   "source": [
    "smoothnlp_adaptor = squeeze.adaptor.smoothnlp_learner_adaptor\n",
    "squeezed_seqs = smoothnlp_adaptor.convert2seqs(document_learned_result)"
   ]
  },
  {
   "cell_type": "code",
   "execution_count": 11,
   "metadata": {
    "ExecuteTime": {
     "end_time": "2019-04-02T15:41:07.186425Z",
     "start_time": "2019-04-02T15:41:07.183893Z"
    }
   },
   "outputs": [],
   "source": [
    "from squeeze import SequenceTransformer\n",
    "st = SequenceTransformer()"
   ]
  },
  {
   "cell_type": "code",
   "execution_count": 12,
   "metadata": {
    "ExecuteTime": {
     "end_time": "2019-04-02T15:41:07.200093Z",
     "start_time": "2019-04-02T15:41:07.188593Z"
    },
    "scrolled": true
   },
   "outputs": [
    {
     "data": {
      "text/plain": [
       "{'re': {'name': 're',\n",
       "  'value': [0.0,\n",
       "   0.6365141682948128,\n",
       "   0.0,\n",
       "   0.6365141682948128,\n",
       "   0.0,\n",
       "   0.0,\n",
       "   0.0,\n",
       "   0.0]},\n",
       " 'le': {'name': 'le',\n",
       "  'value': [0.0,\n",
       "   0.6365141682948128,\n",
       "   0.0,\n",
       "   0.6365141682948128,\n",
       "   0.0,\n",
       "   0.0,\n",
       "   0.6931471805599453,\n",
       "   0.0]},\n",
       " 'pmi': {'name': 'pmi',\n",
       "  'value': [11.326906499272114,\n",
       "   11.961213179809127,\n",
       "   10.528813875222731,\n",
       "   11.961213179809127,\n",
       "   11.622375560145434,\n",
       "   8.520574766468465,\n",
       "   7.983773656299213,\n",
       "   16.51460262319139]},\n",
       " 'phrase_score': {'name': 'phrase_score',\n",
       "  'value': [0.9810855061190058,\n",
       "   30.39080850692747,\n",
       "   0.9119583259797813,\n",
       "   30.39080850692747,\n",
       "   1.0066777022890754,\n",
       "   0.7380137204913568,\n",
       "   19.979471490424604,\n",
       "   1.4304203247346632]},\n",
       " 'textRankScore': {'name': 'textRankScore',\n",
       "  'value': [0.57032394,\n",
       "   0.9089106,\n",
       "   1.0187261,\n",
       "   1.9009947,\n",
       "   0.9089106,\n",
       "   0.7902347,\n",
       "   0.9044267,\n",
       "   1.9009947,\n",
       "   2.1368623,\n",
       "   1.0371267,\n",
       "   0.92331296,\n",
       "   1.3591951,\n",
       "   0.7048798,\n",
       "   0.5969764]},\n",
       " 'token': {'name': 'token',\n",
       "  'value': ['今天',\n",
       "   '天气',\n",
       "   '不错',\n",
       "   ',',\n",
       "   '天气',\n",
       "   '这么',\n",
       "   '好',\n",
       "   ',',\n",
       "   ' ',\n",
       "   '真',\n",
       "   '应该',\n",
       "   '出去',\n",
       "   '玩耍',\n",
       "   '呀']}}"
      ]
     },
     "execution_count": 12,
     "metadata": {},
     "output_type": "execute_result"
    }
   ],
   "source": [
    "squeezed_seqs"
   ]
  },
  {
   "cell_type": "code",
   "execution_count": 19,
   "metadata": {
    "ExecuteTime": {
     "end_time": "2019-04-02T15:43:47.174962Z",
     "start_time": "2019-04-02T15:43:47.170811Z"
    }
   },
   "outputs": [
    {
     "data": {
      "text/plain": [
       "{'textRankScore.fist_location_of_max': 8,\n",
       " 'textRankScore.fist_location_of_min': 0,\n",
       " 'textRankScore.freq_of_max': 1,\n",
       " 'textRankScore.freq_of_min': 1,\n",
       " 'textRankScore.last_location_of_max': 6,\n",
       " 'textRankScore.last_location_of_min': 14,\n",
       " 'textRankScore.length': 14,\n",
       " 'textRankScore.max': 2.1368623,\n",
       " 'textRankScore.mean': 1.1187053785714287,\n",
       " 'textRankScore.median': 0.91611178,\n",
       " 'textRankScore.median_mean_distance': 0.1293256544138687,\n",
       " 'textRankScore.min': 0.57032394,\n",
       " 'textRankScore.duplicates_count': 2,\n",
       " 'textRankScore._number_peaks': 3,\n",
       " 'textRankScore.percentage_below_mean': 0.7142857142857143,\n",
       " 'textRankScore.percentage_of_most_reoccuring_value_to_all_values': 0.08333333333333333,\n",
       " 'textRankScore.percentage_of_most_reoocuring_value_to_all_datapoints': 0.14285714285714285,\n",
       " 'textRankScore.ratio_value_number_to_seq_length': 0.8571428571428571,\n",
       " 'textRankScore.uniqueCount': 12,\n",
       " 'textRankScore.variance': 0.23994800696559712}"
      ]
     },
     "execution_count": 19,
     "metadata": {},
     "output_type": "execute_result"
    }
   ],
   "source": [
    "st.transform(squeezed_seqs['textRankScore'])"
   ]
  },
  {
   "cell_type": "code",
   "execution_count": 18,
   "metadata": {
    "ExecuteTime": {
     "end_time": "2019-04-02T15:43:21.288645Z",
     "start_time": "2019-04-02T15:43:21.281048Z"
    }
   },
   "outputs": [
    {
     "data": {
      "text/plain": [
       "{'re.fist_location_of_max': 1,\n",
       " 're.fist_location_of_min': 0,\n",
       " 're.freq_of_max': 2,\n",
       " 're.freq_of_min': 6,\n",
       " 're.last_location_of_max': 5,\n",
       " 're.last_location_of_min': 1,\n",
       " 're.length': 8,\n",
       " 're.max': 0.6365141682948128,\n",
       " 're.mean': 0.1591285420737032,\n",
       " 're.median': 0.0,\n",
       " 're.median_mean_distance': 0.25,\n",
       " 're.min': 0.0,\n",
       " 're.duplicates_count': 6,\n",
       " 're._number_peaks': 2,\n",
       " 're.percentage_below_mean': 0.75,\n",
       " 're.percentage_of_most_reoccuring_value_to_all_values': 0.5,\n",
       " 're.percentage_of_most_reoocuring_value_to_all_datapoints': 0.75,\n",
       " 're.ratio_value_number_to_seq_length': 0.25,\n",
       " 're.uniqueCount': 2,\n",
       " 're.variance': 0.07596567870750696,\n",
       " 'le.fist_location_of_max': 6,\n",
       " 'le.fist_location_of_min': 0,\n",
       " 'le.freq_of_max': 1,\n",
       " 'le.freq_of_min': 5,\n",
       " 'le.last_location_of_max': 2,\n",
       " 'le.last_location_of_min': 1,\n",
       " 'le.length': 8,\n",
       " 'le.max': 0.6931471805599453,\n",
       " 'le.mean': 0.24577193964369637,\n",
       " 'le.median': 0.0,\n",
       " 'le.median_mean_distance': 0.3545739585136224,\n",
       " 'le.min': 0.0,\n",
       " 'le.duplicates_count': 5,\n",
       " 'le._number_peaks': 3,\n",
       " 'le.percentage_below_mean': 0.625,\n",
       " 'le.percentage_of_most_reoccuring_value_to_all_values': 0.3333333333333333,\n",
       " 'le.percentage_of_most_reoocuring_value_to_all_datapoints': 0.625,\n",
       " 'le.ratio_value_number_to_seq_length': 0.375,\n",
       " 'le.uniqueCount': 3,\n",
       " 'le.variance': 0.10094035203355976,\n",
       " 'pmi.fist_location_of_max': 7,\n",
       " 'pmi.fist_location_of_min': 6,\n",
       " 'pmi.freq_of_max': 1,\n",
       " 'pmi.freq_of_min': 1,\n",
       " 'pmi.last_location_of_max': 1,\n",
       " 'pmi.last_location_of_min': 2,\n",
       " 'pmi.length': 8,\n",
       " 'pmi.max': 16.51460262319139,\n",
       " 'pmi.mean': 11.302434167527203,\n",
       " 'pmi.median': 11.474641029708774,\n",
       " 'pmi.median_mean_distance': 0.0201864159801937,\n",
       " 'pmi.min': 7.983773656299213,\n",
       " 'pmi.duplicates_count': 1,\n",
       " 'pmi._number_peaks': 2,\n",
       " 'pmi.percentage_below_mean': 0.375,\n",
       " 'pmi.percentage_of_most_reoccuring_value_to_all_values': 0.14285714285714285,\n",
       " 'pmi.percentage_of_most_reoocuring_value_to_all_datapoints': 0.25,\n",
       " 'pmi.ratio_value_number_to_seq_length': 0.875,\n",
       " 'pmi.uniqueCount': 7,\n",
       " 'pmi.variance': 5.936047330838346,\n",
       " 'phrase_score.fist_location_of_max': 1,\n",
       " 'phrase_score.fist_location_of_min': 5,\n",
       " 'phrase_score.freq_of_max': 2,\n",
       " 'phrase_score.freq_of_min': 1,\n",
       " 'phrase_score.last_location_of_max': 5,\n",
       " 'phrase_score.last_location_of_min': 3,\n",
       " 'phrase_score.length': 8,\n",
       " 'phrase_score.max': 30.39080850692747,\n",
       " 'phrase_score.mean': 10.728655510486679,\n",
       " 'phrase_score.median': 1.2185490135118693,\n",
       " 'phrase_score.median_mean_distance': 0.3207153513005444,\n",
       " 'phrase_score.min': 0.7380137204913568,\n",
       " 'phrase_score.duplicates_count': 1,\n",
       " 'phrase_score._number_peaks': 3,\n",
       " 'phrase_score.percentage_below_mean': 0.625,\n",
       " 'phrase_score.percentage_of_most_reoccuring_value_to_all_values': 0.14285714285714285,\n",
       " 'phrase_score.percentage_of_most_reoocuring_value_to_all_datapoints': 0.25,\n",
       " 'phrase_score.ratio_value_number_to_seq_length': 0.875,\n",
       " 'phrase_score.uniqueCount': 7,\n",
       " 'phrase_score.variance': 166.36846690707057,\n",
       " 'textRankScore.fist_location_of_max': 8,\n",
       " 'textRankScore.fist_location_of_min': 0,\n",
       " 'textRankScore.freq_of_max': 1,\n",
       " 'textRankScore.freq_of_min': 1,\n",
       " 'textRankScore.last_location_of_max': 6,\n",
       " 'textRankScore.last_location_of_min': 14,\n",
       " 'textRankScore.length': 14,\n",
       " 'textRankScore.max': 2.1368623,\n",
       " 'textRankScore.mean': 1.1187053785714287,\n",
       " 'textRankScore.median': 0.91611178,\n",
       " 'textRankScore.median_mean_distance': 0.1293256544138687,\n",
       " 'textRankScore.min': 0.57032394,\n",
       " 'textRankScore.duplicates_count': 2,\n",
       " 'textRankScore._number_peaks': 3,\n",
       " 'textRankScore.percentage_below_mean': 0.7142857142857143,\n",
       " 'textRankScore.percentage_of_most_reoccuring_value_to_all_values': 0.08333333333333333,\n",
       " 'textRankScore.percentage_of_most_reoocuring_value_to_all_datapoints': 0.14285714285714285,\n",
       " 'textRankScore.ratio_value_number_to_seq_length': 0.8571428571428571,\n",
       " 'textRankScore.uniqueCount': 12,\n",
       " 'textRankScore.variance': 0.23994800696559712,\n",
       " 'token.flucturate_rate': 0.0,\n",
       " 'token.length': 14,\n",
       " 'token.duplicates_count': 2,\n",
       " 'token.percentage_of_most_reoccuring_value_to_all_values': 0.08333333333333333,\n",
       " 'token.percentage_of_most_reoocuring_value_to_all_datapoints': 0.14285714285714285,\n",
       " 'token.ratio_value_number_to_seq_length': 0.8571428571428571,\n",
       " 'token.uniqueCount': 12}"
      ]
     },
     "execution_count": 18,
     "metadata": {},
     "output_type": "execute_result"
    }
   ],
   "source": [
    "ftrs = {}\n",
    "for k in squeezed_seqs.keys():\n",
    "    ftrs = {**ftrs,**st.transform(squeezed_seqs[k])}\n",
    "ftrs"
   ]
  },
  {
   "cell_type": "code",
   "execution_count": null,
   "metadata": {},
   "outputs": [],
   "source": []
  }
 ],
 "metadata": {
  "kernelspec": {
   "display_name": "Python 3",
   "language": "python",
   "name": "python3"
  },
  "language_info": {
   "codemirror_mode": {
    "name": "ipython",
    "version": 3
   },
   "file_extension": ".py",
   "mimetype": "text/x-python",
   "name": "python",
   "nbconvert_exporter": "python",
   "pygments_lexer": "ipython3",
   "version": "3.6.7"
  },
  "toc": {
   "base_numbering": 1,
   "nav_menu": {},
   "number_sections": true,
   "sideBar": true,
   "skip_h1_title": false,
   "title_cell": "Table of Contents",
   "title_sidebar": "Contents",
   "toc_cell": false,
   "toc_position": {},
   "toc_section_display": true,
   "toc_window_display": false
  }
 },
 "nbformat": 4,
 "nbformat_minor": 2
}
