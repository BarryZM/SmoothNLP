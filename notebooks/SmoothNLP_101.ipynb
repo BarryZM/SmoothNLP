{
 "cells": [
  {
   "cell_type": "code",
   "execution_count": 1,
   "metadata": {
    "ExecuteTime": {
     "end_time": "2019-04-03T08:50:25.251192Z",
     "start_time": "2019-04-03T08:50:25.088450Z"
    }
   },
   "outputs": [],
   "source": [
    "import smoothnlp\n",
    "smoothnlp.initJVMConnection(\"/storm/smoothnlp/smoothnlp_maven/target/smoothnlp-0.1-jar-with-dependencies.jar\")"
   ]
  },
  {
   "cell_type": "markdown",
   "metadata": {},
   "source": [
    "### Simple Module"
   ]
  },
  {
   "cell_type": "markdown",
   "metadata": {},
   "source": [
    "#### 命名实体识别"
   ]
  },
  {
   "cell_type": "code",
   "execution_count": 2,
   "metadata": {
    "ExecuteTime": {
     "end_time": "2019-04-03T08:50:37.721334Z",
     "start_time": "2019-04-03T08:50:26.476084Z"
    }
   },
   "outputs": [
    {
     "data": {
      "text/plain": [
       "[{'charStart': '1',\n",
       "  'entityType': 'DATE',\n",
       "  'charEnd': '10',\n",
       "  'tokens': '[2019年-2, 3月-3, 八号-4]',\n",
       "  'normalizedEntityTag': '2019-03-08',\n",
       "  'text': '2019年3月八号'},\n",
       " {'charStart': '17',\n",
       "  'entityType': 'MONEY',\n",
       "  'charEnd': '20',\n",
       "  'tokens': '[五十-11, 元-12]',\n",
       "  'normalizedEntityTag': '元50',\n",
       "  'text': '五十元'},\n",
       " {'charStart': '21',\n",
       "  'entityType': 'NUMBER',\n",
       "  'charEnd': '22',\n",
       "  'tokens': '[十-14]',\n",
       "  'normalizedEntityTag': '10',\n",
       "  'text': '十'}]"
      ]
     },
     "execution_count": 2,
     "metadata": {},
     "output_type": "execute_result"
    }
   ],
   "source": [
    "import json\n",
    "ner = smoothnlp.simple.ner()\n",
    "json.loads(ner.analyze(\"在2019年3月八号,我买了个价值五十元的十个苹果\"))"
   ]
  },
  {
   "cell_type": "markdown",
   "metadata": {},
   "source": [
    "####  情感"
   ]
  },
  {
   "cell_type": "code",
   "execution_count": 3,
   "metadata": {
    "ExecuteTime": {
     "end_time": "2019-04-03T08:50:42.254408Z",
     "start_time": "2019-04-03T08:50:37.722688Z"
    }
   },
   "outputs": [
    {
     "data": {
      "text/plain": [
       "'[{\"sentiment.Label\":\"Positive\"}]'"
      ]
     },
     "execution_count": 3,
     "metadata": {},
     "output_type": "execute_result"
    }
   ],
   "source": [
    "sentiment= smoothnlp.simple.sentiment()\n",
    "sentiment.analyze(\"今天天气不错\")"
   ]
  },
  {
   "cell_type": "markdown",
   "metadata": {},
   "source": [
    "### Learner Module"
   ]
  },
  {
   "cell_type": "markdown",
   "metadata": {},
   "source": [
    "#### Document Learner"
   ]
  },
  {
   "cell_type": "code",
   "execution_count": 4,
   "metadata": {
    "ExecuteTime": {
     "end_time": "2019-04-03T08:50:49.343612Z",
     "start_time": "2019-04-03T08:50:49.340831Z"
    }
   },
   "outputs": [],
   "source": [
    "sample_text = \"今天天气不错,天气这么好, 真应该出去玩耍呀\"\n",
    "sample_text2 = \"今天天气不错, 但是如果不出去玩, 在家里写代码也会很开心\""
   ]
  },
  {
   "cell_type": "code",
   "execution_count": 5,
   "metadata": {
    "ExecuteTime": {
     "end_time": "2019-04-03T08:50:50.139045Z",
     "start_time": "2019-04-03T08:50:49.933743Z"
    },
    "scrolled": true
   },
   "outputs": [
    {
     "data": {
      "text/plain": [
       "[{'charStart': '0',\n",
       "  're': '0.0',\n",
       "  'phrase_score': '0.9810855061190058',\n",
       "  'le': '0.0',\n",
       "  'charEnd': '2',\n",
       "  'tokenIndex': '0',\n",
       "  'textRankScore': '0.57032394',\n",
       "  'pmi': '11.326906499272114',\n",
       "  'token': '今天'},\n",
       " {'charStart': '2',\n",
       "  're': '0.6365141682948128',\n",
       "  'phrase_score': '30.39080850692747',\n",
       "  'le': '0.6365141682948128',\n",
       "  'charEnd': '4',\n",
       "  'tokenIndex': '1',\n",
       "  'textRankScore': '0.9089106',\n",
       "  'pmi': '11.961213179809127',\n",
       "  'token': '天气'},\n",
       " {'charStart': '4',\n",
       "  're': '0.0',\n",
       "  'phrase_score': '0.9119583259797813',\n",
       "  'le': '0.0',\n",
       "  'charEnd': '6',\n",
       "  'tokenIndex': '2',\n",
       "  'textRankScore': '1.0187261',\n",
       "  'pmi': '10.528813875222731',\n",
       "  'token': '不错'},\n",
       " {'charStart': '6',\n",
       "  'charEnd': '7',\n",
       "  'tokenIndex': '3',\n",
       "  'textRankScore': '1.9009947',\n",
       "  'token': ','},\n",
       " {'charStart': '7',\n",
       "  're': '0.6365141682948128',\n",
       "  'phrase_score': '30.39080850692747',\n",
       "  'le': '0.6365141682948128',\n",
       "  'charEnd': '9',\n",
       "  'tokenIndex': '4',\n",
       "  'textRankScore': '0.9089106',\n",
       "  'pmi': '11.961213179809127',\n",
       "  'token': '天气'},\n",
       " {'charStart': '9',\n",
       "  're': '0.0',\n",
       "  'phrase_score': '1.0066777022890754',\n",
       "  'le': '0.0',\n",
       "  'charEnd': '11',\n",
       "  'tokenIndex': '5',\n",
       "  'textRankScore': '0.7902347',\n",
       "  'pmi': '11.622375560145434',\n",
       "  'token': '这么'},\n",
       " {'charStart': '11',\n",
       "  'charEnd': '12',\n",
       "  'tokenIndex': '6',\n",
       "  'textRankScore': '0.9044267',\n",
       "  'token': '好'},\n",
       " {'charStart': '12',\n",
       "  'charEnd': '13',\n",
       "  'tokenIndex': '7',\n",
       "  'textRankScore': '1.9009947',\n",
       "  'token': ','},\n",
       " {'charStart': '13',\n",
       "  'charEnd': '14',\n",
       "  'tokenIndex': '8',\n",
       "  'textRankScore': '2.1368623',\n",
       "  'token': ' '},\n",
       " {'charStart': '14',\n",
       "  'charEnd': '15',\n",
       "  'tokenIndex': '9',\n",
       "  'textRankScore': '1.0371267',\n",
       "  'token': '真'},\n",
       " {'charStart': '15',\n",
       "  're': '0.0',\n",
       "  'phrase_score': '0.7380137204913568',\n",
       "  'le': '0.0',\n",
       "  'charEnd': '17',\n",
       "  'tokenIndex': '10',\n",
       "  'textRankScore': '0.92331296',\n",
       "  'pmi': '8.520574766468465',\n",
       "  'token': '应该'},\n",
       " {'charStart': '17',\n",
       "  're': '0.0',\n",
       "  'phrase_score': '19.979471490424604',\n",
       "  'le': '0.6931471805599453',\n",
       "  'charEnd': '19',\n",
       "  'tokenIndex': '11',\n",
       "  'textRankScore': '1.3591951',\n",
       "  'pmi': '7.983773656299213',\n",
       "  'token': '出去'},\n",
       " {'charStart': '19',\n",
       "  're': '0.0',\n",
       "  'phrase_score': '1.4304203247346632',\n",
       "  'le': '0.0',\n",
       "  'charEnd': '21',\n",
       "  'tokenIndex': '12',\n",
       "  'textRankScore': '0.7048798',\n",
       "  'pmi': '16.51460262319139',\n",
       "  'token': '玩耍'},\n",
       " {'charStart': '21',\n",
       "  'charEnd': '22',\n",
       "  'tokenIndex': '13',\n",
       "  'textRankScore': '0.5969764',\n",
       "  'token': '呀'}]"
      ]
     },
     "execution_count": 5,
     "metadata": {},
     "output_type": "execute_result"
    }
   ],
   "source": [
    "DocumentLearner = smoothnlp.learner.DocumentLearner()\n",
    "DocumentLearner.fit([sample_text,sample_text2])\n",
    "document_learned_result = json.loads(DocumentLearner.transform(sample_text))\n",
    "document_learned_result"
   ]
  },
  {
   "cell_type": "markdown",
   "metadata": {},
   "source": [
    "#### PMI & Left/Right Entripy Learner"
   ]
  },
  {
   "cell_type": "code",
   "execution_count": 6,
   "metadata": {
    "ExecuteTime": {
     "end_time": "2019-04-01T12:14:59.290486Z",
     "start_time": "2019-04-01T12:14:59.278454Z"
    },
    "scrolled": true
   },
   "outputs": [
    {
     "data": {
      "text/plain": [
       "[{'charStart': '0',\n",
       "  're': '0.0',\n",
       "  'phrase_score': '0.8646654135171498',\n",
       "  'le': '0.0',\n",
       "  'charEnd': '2',\n",
       "  'tokenIndex': '0',\n",
       "  'pmi': '11.466668441647274',\n",
       "  'token': '今天'},\n",
       " {'charStart': '2',\n",
       "  're': '0.6931471805599453',\n",
       "  'phrase_score': '38.93418968644944',\n",
       "  'le': '0.6931471805599453',\n",
       "  'charEnd': '4',\n",
       "  'tokenIndex': '1',\n",
       "  'pmi': '12.388657194636068',\n",
       "  'token': '天气'},\n",
       " {'charStart': '4',\n",
       "  're': '0.0',\n",
       "  'phrase_score': '0.8044837581121461',\n",
       "  'le': '0.0',\n",
       "  'charEnd': '6',\n",
       "  'tokenIndex': '2',\n",
       "  'pmi': '10.66857581759789',\n",
       "  'token': '不错'},\n",
       " {'charStart': '6', 'charEnd': '7', 'tokenIndex': '3', 'token': ','},\n",
       " {'charStart': '7',\n",
       "  're': '0.6931471805599453',\n",
       "  'phrase_score': '38.93418968644944',\n",
       "  'le': '0.6931471805599453',\n",
       "  'charEnd': '9',\n",
       "  'tokenIndex': '4',\n",
       "  'pmi': '12.388657194636068',\n",
       "  'token': '天气'},\n",
       " {'charStart': '9',\n",
       "  're': '0.0',\n",
       "  'phrase_score': '0.9392138558619136',\n",
       "  'le': '0.0',\n",
       "  'charEnd': '11',\n",
       "  'tokenIndex': '5',\n",
       "  'pmi': '12.455284683080539',\n",
       "  'token': '这么'},\n",
       " {'charStart': '11', 'charEnd': '12', 'tokenIndex': '6', 'token': '好'},\n",
       " {'charStart': '12', 'charEnd': '13', 'tokenIndex': '7', 'token': ','},\n",
       " {'charStart': '13', 'charEnd': '14', 'tokenIndex': '8', 'token': ' '},\n",
       " {'charStart': '14', 'charEnd': '15', 'tokenIndex': '9', 'token': '真'},\n",
       " {'charStart': '15',\n",
       "  're': '0.0',\n",
       "  'phrase_score': '0.7053168107383844',\n",
       "  'le': '0.0',\n",
       "  'charEnd': '17',\n",
       "  'tokenIndex': '10',\n",
       "  'pmi': '9.353483889403568',\n",
       "  'token': '应该'},\n",
       " {'charStart': '17',\n",
       "  're': '0.0',\n",
       "  'phrase_score': '0.6125702773559915',\n",
       "  'le': '0.0',\n",
       "  'charEnd': '19',\n",
       "  'tokenIndex': '11',\n",
       "  'pmi': '8.123535598674373',\n",
       "  'token': '出去'},\n",
       " {'charStart': '19',\n",
       "  're': '0.0',\n",
       "  'phrase_score': '1.3081213164739631',\n",
       "  'le': '0.0',\n",
       "  'charEnd': '21',\n",
       "  'tokenIndex': '12',\n",
       "  'pmi': '17.347511746126493',\n",
       "  'token': '玩耍'},\n",
       " {'charStart': '21', 'charEnd': '22', 'tokenIndex': '13', 'token': '呀'}]"
      ]
     },
     "execution_count": 6,
     "metadata": {},
     "output_type": "execute_result"
    }
   ],
   "source": [
    "PMIElearner = smoothnlp.learner.PMIEntropyLearner()\n",
    "PMIElearner.fit(sample_text)\n",
    "json.loads(PMIElearner.transform(sample_text))"
   ]
  },
  {
   "cell_type": "markdown",
   "metadata": {},
   "source": [
    "#### TextRankScore Leaner"
   ]
  },
  {
   "cell_type": "code",
   "execution_count": 7,
   "metadata": {
    "ExecuteTime": {
     "end_time": "2019-04-01T12:14:59.296214Z",
     "start_time": "2019-04-01T12:14:59.292746Z"
    }
   },
   "outputs": [],
   "source": [
    "TextRankLearner = smoothnlp.learner.TextRankLeaner()"
   ]
  },
  {
   "cell_type": "code",
   "execution_count": 8,
   "metadata": {
    "ExecuteTime": {
     "end_time": "2019-04-01T12:14:59.315006Z",
     "start_time": "2019-04-01T12:14:59.298120Z"
    },
    "scrolled": true
   },
   "outputs": [
    {
     "data": {
      "text/plain": [
       "[{'charStart': '0',\n",
       "  'charEnd': '2',\n",
       "  'tokenIndex': '0',\n",
       "  'textRankScore': '0.5678649',\n",
       "  'token': '今天'},\n",
       " {'charStart': '2',\n",
       "  'charEnd': '4',\n",
       "  'tokenIndex': '1',\n",
       "  'textRankScore': '0.99076164',\n",
       "  'token': '天气'},\n",
       " {'charStart': '4',\n",
       "  'charEnd': '6',\n",
       "  'tokenIndex': '2',\n",
       "  'textRankScore': '0.8543514',\n",
       "  'token': '不错'},\n",
       " {'charStart': '6',\n",
       "  'charEnd': '7',\n",
       "  'tokenIndex': '3',\n",
       "  'textRankScore': '1.4024082',\n",
       "  'token': ','},\n",
       " {'charStart': '7',\n",
       "  'charEnd': '9',\n",
       "  'tokenIndex': '4',\n",
       "  'textRankScore': '0.99076164',\n",
       "  'token': '天气'},\n",
       " {'charStart': '9',\n",
       "  'charEnd': '11',\n",
       "  'tokenIndex': '5',\n",
       "  'textRankScore': '0.9654957',\n",
       "  'token': '这么'},\n",
       " {'charStart': '11',\n",
       "  'charEnd': '12',\n",
       "  'tokenIndex': '6',\n",
       "  'textRankScore': '1.102654',\n",
       "  'token': '好'},\n",
       " {'charStart': '12',\n",
       "  'charEnd': '13',\n",
       "  'tokenIndex': '7',\n",
       "  'textRankScore': '1.4024082',\n",
       "  'token': ','},\n",
       " {'charStart': '13',\n",
       "  'charEnd': '14',\n",
       "  'tokenIndex': '8',\n",
       "  'textRankScore': '1.238603',\n",
       "  'token': ' '},\n",
       " {'charStart': '14',\n",
       "  'charEnd': '15',\n",
       "  'tokenIndex': '9',\n",
       "  'textRankScore': '1.2452716',\n",
       "  'token': '真'},\n",
       " {'charStart': '15',\n",
       "  'charEnd': '17',\n",
       "  'tokenIndex': '10',\n",
       "  'textRankScore': '1.1064316',\n",
       "  'token': '应该'},\n",
       " {'charStart': '17',\n",
       "  'charEnd': '19',\n",
       "  'tokenIndex': '11',\n",
       "  'textRankScore': '0.96953',\n",
       "  'token': '出去'},\n",
       " {'charStart': '19',\n",
       "  'charEnd': '21',\n",
       "  'tokenIndex': '12',\n",
       "  'textRankScore': '0.83291364',\n",
       "  'token': '玩耍'},\n",
       " {'charStart': '21',\n",
       "  'charEnd': '22',\n",
       "  'tokenIndex': '13',\n",
       "  'textRankScore': '0.69523644',\n",
       "  'token': '呀'}]"
      ]
     },
     "execution_count": 8,
     "metadata": {},
     "output_type": "execute_result"
    }
   ],
   "source": [
    "TextRankLearner.fit(sample_text)\n",
    "json.loads(TextRankLearner.transform(sample_text))"
   ]
  },
  {
   "cell_type": "markdown",
   "metadata": {},
   "source": [
    "### Generate Features Using Squeeze"
   ]
  },
  {
   "cell_type": "code",
   "execution_count": 18,
   "metadata": {
    "ExecuteTime": {
     "end_time": "2019-04-01T12:18:45.401663Z",
     "start_time": "2019-04-01T12:18:45.398804Z"
    }
   },
   "outputs": [],
   "source": [
    "import squeeze\n",
    "import squeeze.adaptor\n",
    "import warnings\n",
    "warnings.filterwarnings(\"ignore\")"
   ]
  },
  {
   "cell_type": "code",
   "execution_count": 19,
   "metadata": {
    "ExecuteTime": {
     "end_time": "2019-04-01T12:18:45.914017Z",
     "start_time": "2019-04-01T12:18:45.911494Z"
    }
   },
   "outputs": [],
   "source": [
    "smoothnlp_adaptor = squeeze.adaptor.smoothnlp_learner_adaptor\n",
    "squeezed_seqs = smoothnlp_adaptor.convert2seqs(document_learned_result)"
   ]
  },
  {
   "cell_type": "code",
   "execution_count": 23,
   "metadata": {
    "ExecuteTime": {
     "end_time": "2019-04-01T12:19:43.217466Z",
     "start_time": "2019-04-01T12:19:43.214966Z"
    }
   },
   "outputs": [],
   "source": [
    "from squeeze import SequenceTransformer\n",
    "st = SequenceTransformer()"
   ]
  },
  {
   "cell_type": "code",
   "execution_count": 28,
   "metadata": {
    "ExecuteTime": {
     "end_time": "2019-04-01T12:20:46.630678Z",
     "start_time": "2019-04-01T12:20:46.625429Z"
    },
    "scrolled": true
   },
   "outputs": [
    {
     "data": {
      "text/plain": [
       "{'re': {'name': 're',\n",
       "  'value': [0.0,\n",
       "   0.6365141682948128,\n",
       "   0.0,\n",
       "   0.6365141682948128,\n",
       "   0.0,\n",
       "   0.0,\n",
       "   0.0,\n",
       "   0.0]},\n",
       " 'le': {'name': 'le',\n",
       "  'value': [0.0,\n",
       "   0.6365141682948128,\n",
       "   0.0,\n",
       "   0.6365141682948128,\n",
       "   0.0,\n",
       "   0.0,\n",
       "   0.6931471805599453,\n",
       "   0.0]},\n",
       " 'pmi': {'name': 'pmi',\n",
       "  'value': [11.326906499272114,\n",
       "   11.961213179809127,\n",
       "   10.528813875222731,\n",
       "   11.961213179809127,\n",
       "   11.622375560145434,\n",
       "   8.520574766468465,\n",
       "   7.983773656299213,\n",
       "   16.51460262319139]},\n",
       " 'phrase_score': {'name': 'phrase_score',\n",
       "  'value': [0.9810855061190058,\n",
       "   30.39080850692747,\n",
       "   0.9119583259797813,\n",
       "   30.39080850692747,\n",
       "   1.0066777022890754,\n",
       "   0.7380137204913568,\n",
       "   19.979471490424604,\n",
       "   1.4304203247346632]},\n",
       " 'textRankScore': {'name': 'textRankScore',\n",
       "  'value': [0.57032394,\n",
       "   0.9089106,\n",
       "   1.0187261,\n",
       "   1.9009947,\n",
       "   0.9089106,\n",
       "   0.7902347,\n",
       "   0.9044267,\n",
       "   1.9009947,\n",
       "   2.1368623,\n",
       "   1.0371267,\n",
       "   0.92331296,\n",
       "   1.3591951,\n",
       "   0.7048798,\n",
       "   0.5969764]},\n",
       " 'token': {'name': 'token',\n",
       "  'value': ['今天',\n",
       "   '天气',\n",
       "   '不错',\n",
       "   ',',\n",
       "   '天气',\n",
       "   '这么',\n",
       "   '好',\n",
       "   ',',\n",
       "   ' ',\n",
       "   '真',\n",
       "   '应该',\n",
       "   '出去',\n",
       "   '玩耍',\n",
       "   '呀']}}"
      ]
     },
     "execution_count": 28,
     "metadata": {},
     "output_type": "execute_result"
    }
   ],
   "source": [
    "squeezed_seqs"
   ]
  },
  {
   "cell_type": "code",
   "execution_count": 31,
   "metadata": {
    "ExecuteTime": {
     "end_time": "2019-04-01T12:21:54.505670Z",
     "start_time": "2019-04-01T12:21:54.502708Z"
    }
   },
   "outputs": [
    {
     "data": {
      "text/plain": [
       "{'re.fist_location_of_max': 1,\n",
       " 're.fist_location_of_min': 0,\n",
       " 're.freq_of_max': 2,\n",
       " 're.freq_of_min': 6,\n",
       " 're.last_location_of_max': 5,\n",
       " 're.last_location_of_min': 1,\n",
       " 're.length': 8,\n",
       " 're.max': 0.6365141682948128,\n",
       " 're.mean': 0.1591285420737032,\n",
       " 're.median': 0.0,\n",
       " 're.median_mean_distance': 0.25,\n",
       " 're.min': 0.0,\n",
       " 're.duplicates_count': 6,\n",
       " 're._number_peaks': 2,\n",
       " 're.percentage_below_mean': 0.75,\n",
       " 're.percentage_of_most_reoccuring_value_to_all_values': 0.5,\n",
       " 're.percentage_of_most_reoocuring_value_to_all_datapoints': 0.75,\n",
       " 're.ratio_value_number_to_seq_length': 0.25,\n",
       " 're.uniqueCount': 2,\n",
       " 're.variance': 0.07596567870750696}"
      ]
     },
     "execution_count": 31,
     "metadata": {},
     "output_type": "execute_result"
    }
   ],
   "source": [
    "st.transform(squeezed_seqs['re'])"
   ]
  },
  {
   "cell_type": "code",
   "execution_count": 32,
   "metadata": {
    "ExecuteTime": {
     "end_time": "2019-04-01T12:21:54.697711Z",
     "start_time": "2019-04-01T12:21:54.693311Z"
    }
   },
   "outputs": [
    {
     "data": {
      "text/plain": [
       "{'textRankScore.fist_location_of_max': 8,\n",
       " 'textRankScore.fist_location_of_min': 0,\n",
       " 'textRankScore.freq_of_max': 1,\n",
       " 'textRankScore.freq_of_min': 1,\n",
       " 'textRankScore.last_location_of_max': 6,\n",
       " 'textRankScore.last_location_of_min': 14,\n",
       " 'textRankScore.length': 14,\n",
       " 'textRankScore.max': 2.1368623,\n",
       " 'textRankScore.mean': 1.1187053785714287,\n",
       " 'textRankScore.median': 0.91611178,\n",
       " 'textRankScore.median_mean_distance': 0.1293256544138687,\n",
       " 'textRankScore.min': 0.57032394,\n",
       " 'textRankScore.duplicates_count': 2,\n",
       " 'textRankScore._number_peaks': 3,\n",
       " 'textRankScore.percentage_below_mean': 0.7142857142857143,\n",
       " 'textRankScore.percentage_of_most_reoccuring_value_to_all_values': 0.08333333333333333,\n",
       " 'textRankScore.percentage_of_most_reoocuring_value_to_all_datapoints': 0.14285714285714285,\n",
       " 'textRankScore.ratio_value_number_to_seq_length': 0.8571428571428571,\n",
       " 'textRankScore.uniqueCount': 12,\n",
       " 'textRankScore.variance': 0.23994800696559712}"
      ]
     },
     "execution_count": 32,
     "metadata": {},
     "output_type": "execute_result"
    }
   ],
   "source": [
    "st.transform(squeezed_seqs['textRankScore'])"
   ]
  },
  {
   "cell_type": "code",
   "execution_count": null,
   "metadata": {},
   "outputs": [],
   "source": []
  }
 ],
 "metadata": {
  "kernelspec": {
   "display_name": "Python 3",
   "language": "python",
   "name": "python3"
  },
  "language_info": {
   "codemirror_mode": {
    "name": "ipython",
    "version": 3
   },
   "file_extension": ".py",
   "mimetype": "text/x-python",
   "name": "python",
   "nbconvert_exporter": "python",
   "pygments_lexer": "ipython3",
   "version": "3.6.7"
  },
  "toc": {
   "base_numbering": 1,
   "nav_menu": {},
   "number_sections": true,
   "sideBar": true,
   "skip_h1_title": false,
   "title_cell": "Table of Contents",
   "title_sidebar": "Contents",
   "toc_cell": false,
   "toc_position": {},
   "toc_section_display": true,
   "toc_window_display": false
  }
 },
 "nbformat": 4,
 "nbformat_minor": 2
}
