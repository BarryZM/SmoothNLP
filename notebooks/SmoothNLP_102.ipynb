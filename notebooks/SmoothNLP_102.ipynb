{
 "cells": [
  {
   "cell_type": "markdown",
   "metadata": {},
   "source": [
    "## SmoothNLP for Money NER"
   ]
  },
  {
   "cell_type": "code",
   "execution_count": 1,
   "metadata": {
    "ExecuteTime": {
     "end_time": "2019-04-08T08:52:35.092341Z",
     "start_time": "2019-04-08T08:52:34.954781Z"
    }
   },
   "outputs": [],
   "source": [
    "import smoothnlp\n",
    "import json\n",
    "smoothnlp.initJVMConnection(\"/storm/smoothnlp/smoothnlp_maven/target/smoothnlp-0.1-jar-with-dependencies.jar\")"
   ]
  },
  {
   "cell_type": "code",
   "execution_count": 2,
   "metadata": {
    "ExecuteTime": {
     "end_time": "2019-04-08T08:52:35.759775Z",
     "start_time": "2019-04-08T08:52:35.756609Z"
    }
   },
   "outputs": [],
   "source": [
    "sample_text1 = \"您的信用卡上月总共支出2350.6元\"\n",
    "sample_text2 = \"您正在申请借款5000.00元\"\n",
    "sample_text3 = \"您尾号9999的的卡与2019年1月1日支付平台网上支付1400.00元\"\n",
    "sample_text4 = \"xxx 向您发了一笔欠条展期, 金额2000元\"\n",
    "sample_text5 = \"您尾号2222的储蓄卡在1月1日无卡自主消费支出人民币148.00元,活期余额剩余475.25元\"\n",
    "sample_text6 = \"您尾号2222的储蓄卡转账收入人民币400.00元, 活期余额剩余1475.23元\"\n",
    "sample_text7 = \"您上个月借了300元钱\""
   ]
  },
  {
   "cell_type": "code",
   "execution_count": 3,
   "metadata": {
    "ExecuteTime": {
     "end_time": "2019-04-08T08:52:51.471752Z",
     "start_time": "2019-04-08T08:52:36.374170Z"
    }
   },
   "outputs": [],
   "source": [
    "m = smoothnlp.learner.MoneyLearner()"
   ]
  },
  {
   "cell_type": "code",
   "execution_count": 4,
   "metadata": {
    "ExecuteTime": {
     "end_time": "2019-04-08T08:52:54.780979Z",
     "start_time": "2019-04-08T08:52:51.473206Z"
    }
   },
   "outputs": [
    {
     "data": {
      "text/plain": [
       "[{'targetCharStart': '17',\n",
       "  'sourceCharStart': '9',\n",
       "  'sourceCharEnd': '11',\n",
       "  'entityType': 'MONEY',\n",
       "  'moneyNormalizedAmount': '2350.6',\n",
       "  'sourceTokenIndex': '5',\n",
       "  'charEnd': '18',\n",
       "  'sourceToken': '支出',\n",
       "  'normalizedEntityTag': '¥2350.6',\n",
       "  'targetToken': '元',\n",
       "  'charStart': '11',\n",
       "  'targetCharEnd': '18',\n",
       "  'tokens': '[2350.6-8, 元-9]',\n",
       "  'text': '2350.6元',\n",
       "  'relationship': '动宾关系',\n",
       "  'targetTokenIndex': '7'}]"
      ]
     },
     "execution_count": 4,
     "metadata": {},
     "output_type": "execute_result"
    }
   ],
   "source": [
    "json.loads(m.transform(sample_text1))"
   ]
  },
  {
   "cell_type": "code",
   "execution_count": 5,
   "metadata": {
    "ExecuteTime": {
     "end_time": "2019-04-08T08:52:55.176153Z",
     "start_time": "2019-04-08T08:52:54.783254Z"
    }
   },
   "outputs": [
    {
     "name": "stdout",
     "output_type": "stream",
     "text": [
      "关系动作:  支出    结构化金额:  2350.6\n",
      "关系动作:  申请    结构化金额:  5000\n",
      "关系动作:  支付    结构化金额:  1400\n",
      "关系动作:  发    结构化金额:  2000\n",
      "关系动作:  消费    结构化金额:  148\n",
      "关系动作:  剩余    结构化金额:  475.25\n",
      "关系动作:  unknown    结构化金额:  400\n",
      "关系动作:  剩余    结构化金额:  1475.23\n",
      "关系动作:  借    结构化金额:  300\n"
     ]
    }
   ],
   "source": [
    "sample_texts = [sample_text1,sample_text2,sample_text3,sample_text4,sample_text5,sample_text6,sample_text7]\n",
    "res_list = []\n",
    "for s in sample_texts:\n",
    "    money_res = json.loads(m.transform(s))\n",
    "    for mres in money_res:\n",
    "        res_list.append(mres)\n",
    "        print(\"关系动作: \", mres['sourceToken'], \"   结构化金额: \",mres['moneyNormalizedAmount'])"
   ]
  },
  {
   "cell_type": "markdown",
   "metadata": {},
   "source": [
    "## Use Squeeze for Ftr Engineering"
   ]
  },
  {
   "cell_type": "code",
   "execution_count": 6,
   "metadata": {
    "ExecuteTime": {
     "end_time": "2019-04-08T08:53:06.248019Z",
     "start_time": "2019-04-08T08:53:05.965633Z"
    }
   },
   "outputs": [],
   "source": [
    "import squeeze\n",
    "from squeeze.transformer import MultiSequenceTransformer\n",
    "money_ner_adaptor = squeeze.adaptor.smoothnlp_money_ner_adaptor"
   ]
  },
  {
   "cell_type": "code",
   "execution_count": 7,
   "metadata": {
    "ExecuteTime": {
     "end_time": "2019-04-08T08:53:06.341099Z",
     "start_time": "2019-04-08T08:53:06.335977Z"
    }
   },
   "outputs": [
    {
     "data": {
      "text/plain": [
       "{'sourceToken': {'name': 'sourceToken',\n",
       "  'value': ['支出', '申请', '支付', '发', '消费', '剩余', 'unknown', '剩余', '借']},\n",
       " 'moneyNormalizedAmount': {'name': 'moneyNormalizedAmount',\n",
       "  'value': [2350.6, 5000, 1400, 2000, 148, 475.25, 400, 1475.23, 300]}}"
      ]
     },
     "execution_count": 7,
     "metadata": {},
     "output_type": "execute_result"
    }
   ],
   "source": [
    "squeezed_seqs = money_ner_adaptor.convert2seqs(res_list)\n",
    "squeezed_seqs"
   ]
  },
  {
   "cell_type": "code",
   "execution_count": 12,
   "metadata": {
    "ExecuteTime": {
     "end_time": "2019-04-08T08:53:10.073505Z",
     "start_time": "2019-04-08T08:53:10.071140Z"
    }
   },
   "outputs": [],
   "source": [
    "mst = MultiSequenceTransformer()"
   ]
  },
  {
   "cell_type": "code",
   "execution_count": 17,
   "metadata": {
    "ExecuteTime": {
     "end_time": "2019-04-08T08:56:02.394114Z",
     "start_time": "2019-04-08T08:56:02.389216Z"
    }
   },
   "outputs": [
    {
     "data": {
      "text/plain": [
       "{'sourceToken.flucturate_rate': 0.0,\n",
       " 'sourceToken.length': 9,\n",
       " 'sourceToken.duplicates_count': 1,\n",
       " 'sourceToken.percentage_of_most_reoccuring_value_to_all_values': 0.125,\n",
       " 'sourceToken.percentage_of_most_reoocuring_value_to_all_datapoints': 0.2222222222222222,\n",
       " 'sourceToken.ratio_value_number_to_seq_length': 0.8888888888888888,\n",
       " 'sourceToken.uniqueCount': 8,\n",
       " 'moneyNormalizedAmount.fist_location_of_max': 1,\n",
       " 'moneyNormalizedAmount.fist_location_of_min': 4,\n",
       " 'moneyNormalizedAmount.freq_of_max': 1,\n",
       " 'moneyNormalizedAmount.freq_of_min': 1,\n",
       " 'moneyNormalizedAmount.kurtosis': 3.114739,\n",
       " 'moneyNormalizedAmount.last_location_of_max': 8,\n",
       " 'moneyNormalizedAmount.last_location_of_min': 5,\n",
       " 'moneyNormalizedAmount.length': 9,\n",
       " 'moneyNormalizedAmount.max': 5000,\n",
       " 'moneyNormalizedAmount.mean': 1505.4533333333334,\n",
       " 'moneyNormalizedAmount.median': 1400,\n",
       " 'moneyNormalizedAmount.median_mean_distance': 0.021733992855180004,\n",
       " 'moneyNormalizedAmount.min': 148,\n",
       " 'moneyNormalizedAmount.duplicates_count': 0,\n",
       " 'moneyNormalizedAmount._number_peaks': 4,\n",
       " 'moneyNormalizedAmount.percentage_below_mean': 0.6666666666666666,\n",
       " 'moneyNormalizedAmount.percentage_of_most_reoccuring_value_to_all_values': 0.1111111111111111,\n",
       " 'moneyNormalizedAmount.percentage_of_most_reoocuring_value_to_all_datapoints': 0.1111111111111111,\n",
       " 'moneyNormalizedAmount.ratio_value_number_to_seq_length': 1.0,\n",
       " 'moneyNormalizedAmount.skewness': 1.642303,\n",
       " 'moneyNormalizedAmount.standard_deviation': 1443.8329707106395,\n",
       " 'moneyNormalizedAmount.uniqueCount': 9,\n",
       " 'moneyNormalizedAmount.variance': 2084653.6473111105}"
      ]
     },
     "execution_count": 17,
     "metadata": {},
     "output_type": "execute_result"
    }
   ],
   "source": [
    "mst.fit(squeezed_seqs)\n",
    "mst.transform(squeezed_seqs)"
   ]
  },
  {
   "cell_type": "code",
   "execution_count": null,
   "metadata": {},
   "outputs": [],
   "source": []
  }
 ],
 "metadata": {
  "kernelspec": {
   "display_name": "Python 3",
   "language": "python",
   "name": "python3"
  },
  "language_info": {
   "codemirror_mode": {
    "name": "ipython",
    "version": 3
   },
   "file_extension": ".py",
   "mimetype": "text/x-python",
   "name": "python",
   "nbconvert_exporter": "python",
   "pygments_lexer": "ipython3",
   "version": "3.6.7"
  },
  "toc": {
   "base_numbering": 1,
   "nav_menu": {},
   "number_sections": true,
   "sideBar": true,
   "skip_h1_title": false,
   "title_cell": "Table of Contents",
   "title_sidebar": "Contents",
   "toc_cell": false,
   "toc_position": {},
   "toc_section_display": true,
   "toc_window_display": false
  }
 },
 "nbformat": 4,
 "nbformat_minor": 2
}
