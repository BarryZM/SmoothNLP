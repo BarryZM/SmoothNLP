{
 "cells": [
  {
   "cell_type": "markdown",
   "metadata": {},
   "source": [
    "## SmoothNLP for Money NER"
   ]
  },
  {
   "cell_type": "code",
   "execution_count": 1,
   "metadata": {
    "ExecuteTime": {
     "end_time": "2019-04-07T15:51:29.199638Z",
     "start_time": "2019-04-07T15:51:29.048681Z"
    }
   },
   "outputs": [],
   "source": [
    "import smoothnlp\n",
    "import json\n",
    "smoothnlp.initJVMConnection(\"/storm/smoothnlp/smoothnlp_maven/target/smoothnlp-0.1-jar-with-dependencies.jar\")"
   ]
  },
  {
   "cell_type": "code",
   "execution_count": 2,
   "metadata": {
    "ExecuteTime": {
     "end_time": "2019-04-07T15:51:29.209190Z",
     "start_time": "2019-04-07T15:51:29.206497Z"
    }
   },
   "outputs": [],
   "source": [
    "sample_text1 = \"您的信用卡上月总共支出2350.6元\"\n",
    "sample_text2 = \"您正在申请借款5000.00元\"\n",
    "sample_text3 = \"您尾号9999的的卡与2019年1月1日支付平台网上支付1400.00元\"\n",
    "sample_text4 = \"xxx 向您发了一笔欠条展期, 金额2000元\"\n",
    "sample_text5 = \"您尾号2222的储蓄卡在1月1日无卡自主消费支出人民币148.00元,活期余额剩余475.25元\"\n",
    "sample_text6 = \"您尾号2222的储蓄卡转账收入人民币400.00元, 活期余额剩余1475.23元\""
   ]
  },
  {
   "cell_type": "code",
   "execution_count": 3,
   "metadata": {
    "ExecuteTime": {
     "end_time": "2019-04-07T15:51:44.580741Z",
     "start_time": "2019-04-07T15:51:29.335238Z"
    }
   },
   "outputs": [],
   "source": [
    "m = smoothnlp.learner.MoneyLearner()"
   ]
  },
  {
   "cell_type": "code",
   "execution_count": 4,
   "metadata": {
    "ExecuteTime": {
     "end_time": "2019-04-07T15:51:47.780017Z",
     "start_time": "2019-04-07T15:51:44.582432Z"
    }
   },
   "outputs": [
    {
     "data": {
      "text/plain": [
       "[{'charStart': '11',\n",
       "  'entityType': 'MONEY',\n",
       "  'moneyNormalizedAmount': '2350.6',\n",
       "  'charEnd': '18',\n",
       "  'sourceToken': '支出',\n",
       "  'tokens': '[2350.6-8, 元-9]',\n",
       "  'normalizedEntityTag': '¥2350.6',\n",
       "  'text': '2350.6元',\n",
       "  'relationship': '动宾关系'}]"
      ]
     },
     "execution_count": 4,
     "metadata": {},
     "output_type": "execute_result"
    }
   ],
   "source": [
    "json.loads(m.transform(sample_text1))"
   ]
  },
  {
   "cell_type": "code",
   "execution_count": 5,
   "metadata": {
    "ExecuteTime": {
     "end_time": "2019-04-07T15:51:48.414444Z",
     "start_time": "2019-04-07T15:51:47.782463Z"
    }
   },
   "outputs": [
    {
     "name": "stdout",
     "output_type": "stream",
     "text": [
      "关系动作:  支出    结构化金额:  2350.6\n",
      "关系动作:  申请    结构化金额:  5000\n",
      "关系动作:  支付    结构化金额:  1400\n",
      "关系动作:  发    结构化金额:  2000\n",
      "关系动作:  消费    结构化金额:  148\n",
      "关系动作:  剩余    结构化金额:  475.25\n",
      "关系动作:  unknown    结构化金额:  400\n",
      "关系动作:  剩余    结构化金额:  1475.23\n"
     ]
    }
   ],
   "source": [
    "sample_texts = [sample_text1,sample_text2,sample_text3,sample_text4,sample_text5,sample_text6]\n",
    "res_list = []\n",
    "for s in sample_texts:\n",
    "    money_res = json.loads(m.transform(s))\n",
    "    for mres in money_res:\n",
    "        res_list.append(mres)\n",
    "        print(\"关系动作: \", mres['sourceToken'], \"   结构化金额: \",mres['moneyNormalizedAmount'])"
   ]
  },
  {
   "cell_type": "markdown",
   "metadata": {},
   "source": [
    "## Use Squeeze for Ftr Engineering"
   ]
  },
  {
   "cell_type": "code",
   "execution_count": 8,
   "metadata": {
    "ExecuteTime": {
     "end_time": "2019-04-07T15:52:32.533972Z",
     "start_time": "2019-04-07T15:52:32.530996Z"
    }
   },
   "outputs": [],
   "source": [
    "import squeeze\n",
    "from squeeze import SequenceTransformer\n",
    "money_ner_adaptor = squeeze.adaptor.smoothnlp_money_ner_adaptor"
   ]
  },
  {
   "cell_type": "code",
   "execution_count": 7,
   "metadata": {
    "ExecuteTime": {
     "end_time": "2019-04-07T15:51:48.744792Z",
     "start_time": "2019-04-07T15:51:48.740371Z"
    }
   },
   "outputs": [
    {
     "data": {
      "text/plain": [
       "{'sourceToken': {'name': 'sourceToken',\n",
       "  'value': ['支出', '申请', '支付', '发', '消费', '剩余', 'unknown', '剩余']},\n",
       " 'moneyNormalizedAmount': {'name': 'moneyNormalizedAmount',\n",
       "  'value': [2350.6, 5000, 1400, 2000, 148, 475.25, 400, 1475.23]}}"
      ]
     },
     "execution_count": 7,
     "metadata": {},
     "output_type": "execute_result"
    }
   ],
   "source": [
    "squeezed_seqs = money_ner_adaptor.convert2seqs(res_list)\n",
    "squeezed_seqs"
   ]
  },
  {
   "cell_type": "code",
   "execution_count": 9,
   "metadata": {
    "ExecuteTime": {
     "end_time": "2019-04-07T15:52:33.763305Z",
     "start_time": "2019-04-07T15:52:33.760888Z"
    }
   },
   "outputs": [],
   "source": [
    "st = SequenceTransformer()"
   ]
  },
  {
   "cell_type": "code",
   "execution_count": 10,
   "metadata": {
    "ExecuteTime": {
     "end_time": "2019-04-07T15:52:53.537070Z",
     "start_time": "2019-04-07T15:52:53.533196Z"
    }
   },
   "outputs": [
    {
     "data": {
      "text/plain": [
       "{'moneyNormalizedAmount.fist_location_of_max': 1,\n",
       " 'moneyNormalizedAmount.fist_location_of_min': 4,\n",
       " 'moneyNormalizedAmount.freq_of_max': 1,\n",
       " 'moneyNormalizedAmount.freq_of_min': 1,\n",
       " 'moneyNormalizedAmount.kurtosis': 2.825035,\n",
       " 'moneyNormalizedAmount.last_location_of_max': 7,\n",
       " 'moneyNormalizedAmount.last_location_of_min': 4,\n",
       " 'moneyNormalizedAmount.length': 8,\n",
       " 'moneyNormalizedAmount.max': 5000,\n",
       " 'moneyNormalizedAmount.mean': 1656.135,\n",
       " 'moneyNormalizedAmount.median': 1437.615,\n",
       " 'moneyNormalizedAmount.median_mean_distance': 0.045037098103874684,\n",
       " 'moneyNormalizedAmount.min': 148,\n",
       " 'moneyNormalizedAmount.duplicates_count': 0,\n",
       " 'moneyNormalizedAmount._number_peaks': 3,\n",
       " 'moneyNormalizedAmount.percentage_below_mean': 0.625,\n",
       " 'moneyNormalizedAmount.percentage_of_most_reoccuring_value_to_all_values': 0.125,\n",
       " 'moneyNormalizedAmount.percentage_of_most_reoocuring_value_to_all_datapoints': 0.125,\n",
       " 'moneyNormalizedAmount.ratio_value_number_to_seq_length': 1.0,\n",
       " 'moneyNormalizedAmount.skewness': 1.527075,\n",
       " 'moneyNormalizedAmount.uniqueCount': 8,\n",
       " 'moneyNormalizedAmount.variance': 2140890.6711999997}"
      ]
     },
     "execution_count": 10,
     "metadata": {},
     "output_type": "execute_result"
    }
   ],
   "source": [
    "st.transform(squeezed_seqs['moneyNormalizedAmount'])"
   ]
  },
  {
   "cell_type": "code",
   "execution_count": 11,
   "metadata": {
    "ExecuteTime": {
     "end_time": "2019-04-07T15:53:11.647568Z",
     "start_time": "2019-04-07T15:53:11.643295Z"
    }
   },
   "outputs": [
    {
     "data": {
      "text/plain": [
       "{'sourceToken.flucturate_rate': 0.0,\n",
       " 'sourceToken.length': 8,\n",
       " 'sourceToken.duplicates_count': 1,\n",
       " 'sourceToken.percentage_of_most_reoccuring_value_to_all_values': 0.14285714285714285,\n",
       " 'sourceToken.percentage_of_most_reoocuring_value_to_all_datapoints': 0.25,\n",
       " 'sourceToken.ratio_value_number_to_seq_length': 0.875,\n",
       " 'sourceToken.uniqueCount': 7}"
      ]
     },
     "execution_count": 11,
     "metadata": {},
     "output_type": "execute_result"
    }
   ],
   "source": [
    "st.transform(squeezed_seqs['sourceToken'])"
   ]
  },
  {
   "cell_type": "code",
   "execution_count": null,
   "metadata": {},
   "outputs": [],
   "source": []
  }
 ],
 "metadata": {
  "kernelspec": {
   "display_name": "Python 3",
   "language": "python",
   "name": "python3"
  },
  "language_info": {
   "codemirror_mode": {
    "name": "ipython",
    "version": 3
   },
   "file_extension": ".py",
   "mimetype": "text/x-python",
   "name": "python",
   "nbconvert_exporter": "python",
   "pygments_lexer": "ipython3",
   "version": "3.6.7"
  },
  "toc": {
   "base_numbering": 1,
   "nav_menu": {},
   "number_sections": true,
   "sideBar": true,
   "skip_h1_title": false,
   "title_cell": "Table of Contents",
   "title_sidebar": "Contents",
   "toc_cell": false,
   "toc_position": {},
   "toc_section_display": true,
   "toc_window_display": false
  }
 },
 "nbformat": 4,
 "nbformat_minor": 2
}
